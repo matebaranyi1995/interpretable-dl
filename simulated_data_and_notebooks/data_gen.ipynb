{
 "cells": [
  {
   "cell_type": "code",
   "execution_count": 1,
   "metadata": {},
   "outputs": [],
   "source": [
    "import pandas as pd\n",
    "import numpy as np"
   ]
  },
  {
   "cell_type": "code",
   "execution_count": 2,
   "metadata": {},
   "outputs": [],
   "source": [
    "from sklearn.experimental import enable_iterative_imputer\n",
    "from sklearn.impute import IterativeImputer"
   ]
  },
  {
   "cell_type": "code",
   "execution_count": null,
   "metadata": {},
   "outputs": [],
   "source": [
    "data = pd.read_excel('./data/clean/data_all_clean.xlsx')\n",
    "data.drop(columns=['Unnamed: 0'], inplace=True)"
   ]
  },
  {
   "cell_type": "code",
   "execution_count": 14,
   "metadata": {},
   "outputs": [],
   "source": [
    "data.drop(columns=['Unnamed: 0.1','Unnamed: 0'], inplace=True)"
   ]
  },
  {
   "cell_type": "markdown",
   "metadata": {},
   "source": [
    "# PLAN "
   ]
  },
  {
   "cell_type": "markdown",
   "metadata": {},
   "source": [
    "1. data_1: Original dataset. \n",
    "    1. data_1_imputed: MICE(data_1)\n",
    "    2. data_1_imputed_gen: tGAN(data_1_imputed)\n",
    "2. data_2: Drop only the rows where mathematics is missing.\n",
    "    1. data_2_imputed: MICE(data_2)\n",
    "    2. data_2_imputed_gen: tGAN(data_2_imputed)\n",
    "2. data_3: Drop all the missing rows\n",
    "    1. data_3_gen: tGAN(data_3)\n"
   ]
  },
  {
   "cell_type": "code",
   "execution_count": 35,
   "metadata": {},
   "outputs": [
    {
     "data": {
      "text/plain": [
       "Index(['Unnamed: 0', 'ID', 'Szervezet_neve', 'program_code', 'Felvétel_féléve',\n",
       "       'ues', 'extra_points', 'final_status', 'Oklevél_eredménye_számmal',\n",
       "       'financing_source', 're_enrolling', 'foreign_lang', 'hun_lang_lit',\n",
       "       'math', 'history', 'elective_subj', 'Hallgató_ID', 'foreign_lang_hs',\n",
       "       'hun_lit_hs', 'hun_lang_hs', 'math_hs', 'history_hs', 'science_hs',\n",
       "       'foreign_lang_score', 'gender', 'years_between', 'surplus_score',\n",
       "       'place_of_hs', 'competition', 'ues_calc_method'],\n",
       "      dtype='object')"
      ]
     },
     "execution_count": 35,
     "metadata": {},
     "output_type": "execute_result"
    }
   ],
   "source": [
    "data.columns"
   ]
  },
  {
   "cell_type": "code",
   "execution_count": 15,
   "metadata": {},
   "outputs": [],
   "source": [
    "from collections import Counter"
   ]
  },
  {
   "cell_type": "code",
   "execution_count": 20,
   "metadata": {},
   "outputs": [
    {
     "data": {
      "text/plain": [
       "21633"
      ]
     },
     "execution_count": 20,
     "metadata": {},
     "output_type": "execute_result"
    }
   ],
   "source": [
    "data.competition.isna().sum()"
   ]
  },
  {
   "cell_type": "code",
   "execution_count": 21,
   "metadata": {},
   "outputs": [
    {
     "data": {
      "text/plain": [
       "22125"
      ]
     },
     "execution_count": 21,
     "metadata": {},
     "output_type": "execute_result"
    }
   ],
   "source": [
    "len(data)"
   ]
  },
  {
   "cell_type": "code",
   "execution_count": 36,
   "metadata": {},
   "outputs": [],
   "source": [
    "data.drop(columns=['Unnamed: 0','Felvétel_féléve', 'Hallgató_ID', 'ID', 'competition', 'Oklevél_eredménye_számmal', 'Szervezet_neve'], inplace=True)"
   ]
  },
  {
   "cell_type": "code",
   "execution_count": 37,
   "metadata": {},
   "outputs": [
    {
     "data": {
      "text/html": [
       "<div>\n",
       "<style scoped>\n",
       "    .dataframe tbody tr th:only-of-type {\n",
       "        vertical-align: middle;\n",
       "    }\n",
       "\n",
       "    .dataframe tbody tr th {\n",
       "        vertical-align: top;\n",
       "    }\n",
       "\n",
       "    .dataframe thead th {\n",
       "        text-align: right;\n",
       "    }\n",
       "</style>\n",
       "<table border=\"1\" class=\"dataframe\">\n",
       "  <thead>\n",
       "    <tr style=\"text-align: right;\">\n",
       "      <th></th>\n",
       "      <th>program_code</th>\n",
       "      <th>ues</th>\n",
       "      <th>extra_points</th>\n",
       "      <th>final_status</th>\n",
       "      <th>financing_source</th>\n",
       "      <th>re_enrolling</th>\n",
       "      <th>foreign_lang</th>\n",
       "      <th>hun_lang_lit</th>\n",
       "      <th>math</th>\n",
       "      <th>history</th>\n",
       "      <th>...</th>\n",
       "      <th>hun_lang_hs</th>\n",
       "      <th>math_hs</th>\n",
       "      <th>history_hs</th>\n",
       "      <th>science_hs</th>\n",
       "      <th>foreign_lang_score</th>\n",
       "      <th>gender</th>\n",
       "      <th>years_between</th>\n",
       "      <th>surplus_score</th>\n",
       "      <th>place_of_hs</th>\n",
       "      <th>ues_calc_method</th>\n",
       "    </tr>\n",
       "  </thead>\n",
       "  <tbody>\n",
       "    <tr>\n",
       "      <th>0</th>\n",
       "      <td>prog_1</td>\n",
       "      <td>417.00</td>\n",
       "      <td>85.00</td>\n",
       "      <td>dropout</td>\n",
       "      <td>state_funded</td>\n",
       "      <td>False</td>\n",
       "      <td>NaN</td>\n",
       "      <td>NaN</td>\n",
       "      <td>NaN</td>\n",
       "      <td>NaN</td>\n",
       "      <td>...</td>\n",
       "      <td>NaN</td>\n",
       "      <td>NaN</td>\n",
       "      <td>NaN</td>\n",
       "      <td>NaN</td>\n",
       "      <td>NaN</td>\n",
       "      <td>Male</td>\n",
       "      <td>NaN</td>\n",
       "      <td>NaN</td>\n",
       "      <td>city_w_county_rights</td>\n",
       "      <td>doubling</td>\n",
       "    </tr>\n",
       "    <tr>\n",
       "      <th>1</th>\n",
       "      <td>prog_1</td>\n",
       "      <td>410.00</td>\n",
       "      <td>78.00</td>\n",
       "      <td>graduate</td>\n",
       "      <td>state_funded</td>\n",
       "      <td>True</td>\n",
       "      <td>NaN</td>\n",
       "      <td>NaN</td>\n",
       "      <td>NaN</td>\n",
       "      <td>NaN</td>\n",
       "      <td>...</td>\n",
       "      <td>NaN</td>\n",
       "      <td>NaN</td>\n",
       "      <td>NaN</td>\n",
       "      <td>NaN</td>\n",
       "      <td>NaN</td>\n",
       "      <td>Male</td>\n",
       "      <td>NaN</td>\n",
       "      <td>NaN</td>\n",
       "      <td>city_w_county_rights</td>\n",
       "      <td>doubling</td>\n",
       "    </tr>\n",
       "    <tr>\n",
       "      <th>2</th>\n",
       "      <td>prog_2</td>\n",
       "      <td>467.75</td>\n",
       "      <td>93.75</td>\n",
       "      <td>dropout</td>\n",
       "      <td>self_funded</td>\n",
       "      <td>False</td>\n",
       "      <td>NaN</td>\n",
       "      <td>NaN</td>\n",
       "      <td>NaN</td>\n",
       "      <td>NaN</td>\n",
       "      <td>...</td>\n",
       "      <td>NaN</td>\n",
       "      <td>NaN</td>\n",
       "      <td>NaN</td>\n",
       "      <td>NaN</td>\n",
       "      <td>NaN</td>\n",
       "      <td>Male</td>\n",
       "      <td>NaN</td>\n",
       "      <td>NaN</td>\n",
       "      <td>city_w_county_rights</td>\n",
       "      <td>doubling</td>\n",
       "    </tr>\n",
       "    <tr>\n",
       "      <th>3</th>\n",
       "      <td>prog_2</td>\n",
       "      <td>459.00</td>\n",
       "      <td>85.00</td>\n",
       "      <td>graduate</td>\n",
       "      <td>state_funded</td>\n",
       "      <td>True</td>\n",
       "      <td>NaN</td>\n",
       "      <td>NaN</td>\n",
       "      <td>NaN</td>\n",
       "      <td>NaN</td>\n",
       "      <td>...</td>\n",
       "      <td>NaN</td>\n",
       "      <td>NaN</td>\n",
       "      <td>NaN</td>\n",
       "      <td>NaN</td>\n",
       "      <td>NaN</td>\n",
       "      <td>Male</td>\n",
       "      <td>NaN</td>\n",
       "      <td>NaN</td>\n",
       "      <td>city_w_county_rights</td>\n",
       "      <td>doubling</td>\n",
       "    </tr>\n",
       "    <tr>\n",
       "      <th>4</th>\n",
       "      <td>prog_3</td>\n",
       "      <td>387.00</td>\n",
       "      <td>35.00</td>\n",
       "      <td>dropout</td>\n",
       "      <td>state_funded</td>\n",
       "      <td>False</td>\n",
       "      <td>NaN</td>\n",
       "      <td>NaN</td>\n",
       "      <td>NaN</td>\n",
       "      <td>NaN</td>\n",
       "      <td>...</td>\n",
       "      <td>NaN</td>\n",
       "      <td>NaN</td>\n",
       "      <td>NaN</td>\n",
       "      <td>NaN</td>\n",
       "      <td>NaN</td>\n",
       "      <td>Male</td>\n",
       "      <td>NaN</td>\n",
       "      <td>NaN</td>\n",
       "      <td>city_w_county_rights</td>\n",
       "      <td>doubling</td>\n",
       "    </tr>\n",
       "  </tbody>\n",
       "</table>\n",
       "<p>5 rows × 23 columns</p>\n",
       "</div>"
      ],
      "text/plain": [
       "  program_code     ues  extra_points final_status financing_source  \\\n",
       "0       prog_1  417.00         85.00      dropout     state_funded   \n",
       "1       prog_1  410.00         78.00     graduate     state_funded   \n",
       "2       prog_2  467.75         93.75      dropout      self_funded   \n",
       "3       prog_2  459.00         85.00     graduate     state_funded   \n",
       "4       prog_3  387.00         35.00      dropout     state_funded   \n",
       "\n",
       "   re_enrolling  foreign_lang  hun_lang_lit  math  history  ...  hun_lang_hs  \\\n",
       "0         False           NaN           NaN   NaN      NaN  ...          NaN   \n",
       "1          True           NaN           NaN   NaN      NaN  ...          NaN   \n",
       "2         False           NaN           NaN   NaN      NaN  ...          NaN   \n",
       "3          True           NaN           NaN   NaN      NaN  ...          NaN   \n",
       "4         False           NaN           NaN   NaN      NaN  ...          NaN   \n",
       "\n",
       "   math_hs  history_hs  science_hs  foreign_lang_score  gender  years_between  \\\n",
       "0      NaN         NaN         NaN                 NaN    Male            NaN   \n",
       "1      NaN         NaN         NaN                 NaN    Male            NaN   \n",
       "2      NaN         NaN         NaN                 NaN    Male            NaN   \n",
       "3      NaN         NaN         NaN                 NaN    Male            NaN   \n",
       "4      NaN         NaN         NaN                 NaN    Male            NaN   \n",
       "\n",
       "   surplus_score           place_of_hs  ues_calc_method  \n",
       "0            NaN  city_w_county_rights         doubling  \n",
       "1            NaN  city_w_county_rights         doubling  \n",
       "2            NaN  city_w_county_rights         doubling  \n",
       "3            NaN  city_w_county_rights         doubling  \n",
       "4            NaN  city_w_county_rights         doubling  \n",
       "\n",
       "[5 rows x 23 columns]"
      ]
     },
     "execution_count": 37,
     "metadata": {},
     "output_type": "execute_result"
    }
   ],
   "source": [
    "data.head()"
   ]
  },
  {
   "cell_type": "code",
   "execution_count": 38,
   "metadata": {},
   "outputs": [],
   "source": [
    "data_3 = data.dropna()"
   ]
  },
  {
   "cell_type": "code",
   "execution_count": 39,
   "metadata": {},
   "outputs": [
    {
     "data": {
      "text/plain": [
       "5239"
      ]
     },
     "execution_count": 39,
     "metadata": {},
     "output_type": "execute_result"
    }
   ],
   "source": [
    "len(data_3)"
   ]
  },
  {
   "cell_type": "code",
   "execution_count": 40,
   "metadata": {},
   "outputs": [
    {
     "data": {
      "text/plain": [
       "program_code           object\n",
       "ues                   float64\n",
       "extra_points          float64\n",
       "final_status           object\n",
       "financing_source       object\n",
       "re_enrolling             bool\n",
       "foreign_lang          float64\n",
       "hun_lang_lit          float64\n",
       "math                  float64\n",
       "history               float64\n",
       "elective_subj         float64\n",
       "foreign_lang_hs       float64\n",
       "hun_lit_hs            float64\n",
       "hun_lang_hs           float64\n",
       "math_hs               float64\n",
       "history_hs            float64\n",
       "science_hs            float64\n",
       "foreign_lang_score    float64\n",
       "gender                 object\n",
       "years_between         float64\n",
       "surplus_score         float64\n",
       "place_of_hs            object\n",
       "ues_calc_method        object\n",
       "dtype: object"
      ]
     },
     "execution_count": 40,
     "metadata": {},
     "output_type": "execute_result"
    }
   ],
   "source": [
    "data_3.dtypes"
   ]
  },
  {
   "cell_type": "code",
   "execution_count": 17,
   "metadata": {},
   "outputs": [],
   "source": [
    "cont_columns = [2,3,4,5,9,10,11,12,13,14,15,16,17,18,19,20,21,22]"
   ]
  },
  {
   "cell_type": "code",
   "execution_count": 19,
   "metadata": {},
   "outputs": [
    {
     "name": "stderr",
     "output_type": "stream",
     "text": [
      "C:\\Anaconda3\\lib\\site-packages\\ipykernel_launcher.py:1: SettingWithCopyWarning: \n",
      "A value is trying to be set on a copy of a slice from a DataFrame.\n",
      "Try using .loc[row_indexer,col_indexer] = value instead\n",
      "\n",
      "See the caveats in the documentation: http://pandas.pydata.org/pandas-docs/stable/user_guide/indexing.html#returning-a-view-versus-a-copy\n",
      "  \"\"\"Entry point for launching an IPython kernel.\n",
      "C:\\Anaconda3\\lib\\site-packages\\ipykernel_launcher.py:2: SettingWithCopyWarning: \n",
      "A value is trying to be set on a copy of a slice from a DataFrame.\n",
      "Try using .loc[row_indexer,col_indexer] = value instead\n",
      "\n",
      "See the caveats in the documentation: http://pandas.pydata.org/pandas-docs/stable/user_guide/indexing.html#returning-a-view-versus-a-copy\n",
      "  \n",
      "C:\\Anaconda3\\lib\\site-packages\\ipykernel_launcher.py:3: SettingWithCopyWarning: \n",
      "A value is trying to be set on a copy of a slice from a DataFrame.\n",
      "Try using .loc[row_indexer,col_indexer] = value instead\n",
      "\n",
      "See the caveats in the documentation: http://pandas.pydata.org/pandas-docs/stable/user_guide/indexing.html#returning-a-view-versus-a-copy\n",
      "  This is separate from the ipykernel package so we can avoid doing imports until\n"
     ]
    }
   ],
   "source": [
    "data_3['Szervezet_neve'] = data_3.Szervezet_neve.astype(str)\n",
    "data_3['Képzés'] = data_3.Képzés.astype(str)\n",
    "data_3['ks_helye'] = data_3.ks_helye.astype(str)"
   ]
  },
  {
   "cell_type": "code",
   "execution_count": 28,
   "metadata": {},
   "outputs": [
    {
     "data": {
      "text/plain": [
       "IterativeImputer(add_indicator=False, estimator=None,\n",
       "                 imputation_order='ascending', initial_strategy='mean',\n",
       "                 max_iter=10, max_value=None, min_value=None,\n",
       "                 missing_values=nan, n_nearest_features=None, random_state=0,\n",
       "                 sample_posterior=False, tol=0.001, verbose=0)"
      ]
     },
     "execution_count": 28,
     "metadata": {},
     "output_type": "execute_result"
    }
   ],
   "source": [
    "imp = IterativeImputer(max_iter=10, random_state=0)\n",
    "imp.fit([[1, 2], [3, 6], [4, 8], [np.nan, 3], [7, np.nan]])  "
   ]
  },
  {
   "cell_type": "code",
   "execution_count": 29,
   "metadata": {},
   "outputs": [
    {
     "name": "stdout",
     "output_type": "stream",
     "text": [
      "[[ 1.  2.]\n",
      " [ 6. 12.]\n",
      " [ 3.  6.]]\n"
     ]
    }
   ],
   "source": [
    "X_test = [[np.nan, 2], [6, np.nan], [np.nan, 6]]\n",
    "# the model learns that the second feature is double the first\n",
    "print(np.round(imp.transform(X_test)))"
   ]
  },
  {
   "cell_type": "markdown",
   "metadata": {},
   "source": [
    "# <hr>"
   ]
  },
  {
   "cell_type": "code",
   "execution_count": 39,
   "metadata": {},
   "outputs": [],
   "source": [
    "data = pd.read_excel('./data/clean/data_all_clean.xlsx', dtype={'Képzés': 'category', 'ks_helye': 'category'})"
   ]
  },
  {
   "cell_type": "code",
   "execution_count": 44,
   "metadata": {},
   "outputs": [],
   "source": [
    "data = pd.read_excel('./data/clean/data_all_clean.xlsx')"
   ]
  },
  {
   "cell_type": "code",
   "execution_count": 45,
   "metadata": {},
   "outputs": [],
   "source": [
    "# data.drop(columns=['Unnamed: 0', 'Szervezet_neve', 'Felvétel_féléve', 'Hallgató_ID', 'ID', 'Oklevél_eredménye_számmal', \n",
    "#                    'felvi_osszes_skalazott', 'Hozott/Tanulmányi_pontszám', 'Szerzett/Érettségi_pontsz'], \n",
    "#           inplace=True)"
   ]
  },
  {
   "cell_type": "code",
   "execution_count": 46,
   "metadata": {},
   "outputs": [],
   "source": [
    "data.drop(columns=['Unnamed: 0','Felvétel_féléve', 'Hallgató_ID', 'ID', 'competition', 'Oklevél_eredménye_számmal', 'Szervezet_neve'], inplace=True)"
   ]
  },
  {
   "cell_type": "code",
   "execution_count": 48,
   "metadata": {},
   "outputs": [],
   "source": [
    "data = data[data['math']>0]"
   ]
  },
  {
   "cell_type": "code",
   "execution_count": 49,
   "metadata": {},
   "outputs": [
    {
     "data": {
      "text/plain": [
       "7490"
      ]
     },
     "execution_count": 49,
     "metadata": {},
     "output_type": "execute_result"
    }
   ],
   "source": [
    "len(data)"
   ]
  },
  {
   "cell_type": "code",
   "execution_count": 44,
   "metadata": {},
   "outputs": [],
   "source": [
    "data.nem_ferfi = data.nem_ferfi.astype(bool)"
   ]
  },
  {
   "cell_type": "code",
   "execution_count": 26,
   "metadata": {},
   "outputs": [],
   "source": [
    "transformed_data = pd.get_dummies(data, dummy_na=False)"
   ]
  },
  {
   "cell_type": "markdown",
   "metadata": {},
   "source": [
    "Impute missing data"
   ]
  },
  {
   "cell_type": "code",
   "execution_count": 112,
   "metadata": {},
   "outputs": [],
   "source": [
    "# transformed_data.allamilag_tamogatott = transformed_data.allamilag_tamogatott.astype(int)\n",
    "# transformed_data.re_enrolled = transformed_data.re_enrolled.astype(int)\n",
    "# transformed_data.nem_ferfi = transformed_data.nem_ferfi.astype(int)"
   ]
  },
  {
   "cell_type": "code",
   "execution_count": 30,
   "metadata": {},
   "outputs": [],
   "source": [
    "# from fancyimpute import MICE"
   ]
  },
  {
   "cell_type": "code",
   "execution_count": 31,
   "metadata": {},
   "outputs": [],
   "source": [
    "# exp_vars = [col for col in transformed_data.columns if col != 'Statusz_vegzett']\n",
    "# X, y = transformed_data.loc[:,exp_vars], transformed_data.loc[:,'Statusz_vegzett']"
   ]
  },
  {
   "cell_type": "code",
   "execution_count": 32,
   "metadata": {},
   "outputs": [],
   "source": [
    "# columns = X.columns\n",
    "# imputed_X = pd.DataFrame(MICE(verbose=False, init_fill_method='median', n_imputations=200).complete(X.values))\n",
    "# imputed_X.columns = columns"
   ]
  },
  {
   "cell_type": "markdown",
   "metadata": {},
   "source": [
    "Drop missing rows:"
   ]
  },
  {
   "cell_type": "code",
   "execution_count": 33,
   "metadata": {},
   "outputs": [],
   "source": [
    "dat = transformed_data.dropna()"
   ]
  },
  {
   "cell_type": "code",
   "execution_count": 51,
   "metadata": {},
   "outputs": [],
   "source": [
    "data = data.dropna()"
   ]
  },
  {
   "cell_type": "code",
   "execution_count": 52,
   "metadata": {},
   "outputs": [
    {
     "data": {
      "text/plain": [
       "5239"
      ]
     },
     "execution_count": 52,
     "metadata": {},
     "output_type": "execute_result"
    }
   ],
   "source": [
    "len(data)"
   ]
  },
  {
   "cell_type": "code",
   "execution_count": null,
   "metadata": {},
   "outputs": [],
   "source": [
    "!pip install ctgan"
   ]
  },
  {
   "cell_type": "code",
   "execution_count": 49,
   "metadata": {},
   "outputs": [
    {
     "name": "stdout",
     "output_type": "stream",
     "text": [
      "Cloning into 'ctgan'...\n",
      "remote: Enumerating objects: 275, done.\u001b[K\n",
      "remote: Counting objects: 100% (275/275), done.\u001b[K\n",
      "remote: Compressing objects: 100% (178/178), done.\u001b[K\n",
      "remote: Total 275 (delta 111), reused 237 (delta 84), pack-reused 0\u001b[K\n",
      "Receiving objects: 100% (275/275), 6.72 MiB | 9.58 MiB/s, done.\n",
      "Resolving deltas: 100% (111/111), done.\n"
     ]
    }
   ],
   "source": [
    "!git clone https://github.com/DAI-Lab/ctgan"
   ]
  },
  {
   "cell_type": "code",
   "execution_count": 53,
   "metadata": {},
   "outputs": [],
   "source": [
    "from ctgan.cli import CTGANSynthesizer"
   ]
  },
  {
   "cell_type": "code",
   "execution_count": 54,
   "metadata": {},
   "outputs": [],
   "source": [
    "ctgan_model = CTGANSynthesizer()"
   ]
  },
  {
   "cell_type": "code",
   "execution_count": 56,
   "metadata": {},
   "outputs": [],
   "source": [
    "data.drop(columns='Unnamed: 0.1', inplace=True)"
   ]
  },
  {
   "cell_type": "code",
   "execution_count": 58,
   "metadata": {},
   "outputs": [
    {
     "data": {
      "text/plain": [
       "array(['prog_7', 'prog_1', 'prog_11', 'prog_5', 'prog_3', 'prog_9',\n",
       "       'prog_10', 'prog_8', 'prog_13', 'prog_6', 'prog_2', 'prog_17',\n",
       "       'prog_16', 'prog_4', 'prog_19', 'prog_15', 'prog_14', 'prog_12',\n",
       "       'prog_18'], dtype=object)"
      ]
     },
     "execution_count": 58,
     "metadata": {},
     "output_type": "execute_result"
    }
   ],
   "source": [
    "data.program_code.unique()"
   ]
  },
  {
   "cell_type": "code",
   "execution_count": 67,
   "metadata": {},
   "outputs": [
    {
     "data": {
      "text/plain": [
       "26.0"
      ]
     },
     "execution_count": 67,
     "metadata": {},
     "output_type": "execute_result"
    }
   ],
   "source": [
    "data.math.min()"
   ]
  },
  {
   "cell_type": "code",
   "execution_count": 70,
   "metadata": {},
   "outputs": [
    {
     "data": {
      "text/plain": [
       "array(['doubling', 'summation'], dtype=object)"
      ]
     },
     "execution_count": 70,
     "metadata": {},
     "output_type": "execute_result"
    }
   ],
   "source": [
    "data.ues_calc_method.unique()"
   ]
  },
  {
   "cell_type": "code",
   "execution_count": 57,
   "metadata": {},
   "outputs": [
    {
     "data": {
      "text/plain": [
       "program_code           object\n",
       "ues                   float64\n",
       "extra_points          float64\n",
       "final_status           object\n",
       "financing_source       object\n",
       "re_enrolling             bool\n",
       "foreign_lang          float64\n",
       "hun_lang_lit          float64\n",
       "math                  float64\n",
       "history               float64\n",
       "elective_subj         float64\n",
       "foreign_lang_hs       float64\n",
       "hun_lit_hs            float64\n",
       "hun_lang_hs           float64\n",
       "math_hs               float64\n",
       "history_hs            float64\n",
       "science_hs            float64\n",
       "foreign_lang_score    float64\n",
       "gender                 object\n",
       "years_between         float64\n",
       "surplus_score         float64\n",
       "place_of_hs            object\n",
       "ues_calc_method        object\n",
       "dtype: object"
      ]
     },
     "execution_count": 57,
     "metadata": {},
     "output_type": "execute_result"
    }
   ],
   "source": [
    "data.dtypes"
   ]
  },
  {
   "cell_type": "code",
   "execution_count": 73,
   "metadata": {},
   "outputs": [
    {
     "name": "stdout",
     "output_type": "stream",
     "text": [
      "MinMaxScaler(copy=True, feature_range=(0, 1))\n",
      "[[0.01113019]\n",
      " [0.50441063]\n",
      " [0.1989225 ]\n",
      " ...\n",
      " [0.23918063]\n",
      " [0.00828844]\n",
      " [0.3125925 ]]\n"
     ]
    }
   ],
   "source": [
    "from sklearn.preprocessing import MinMaxScaler\n",
    "scaler = MinMaxScaler()\n",
    "print(scaler.fit(data[['surplus_score']]))\n",
    "\n",
    "print(scaler.transform(data[['surplus_score']]))"
   ]
  },
  {
   "cell_type": "code",
   "execution_count": 74,
   "metadata": {},
   "outputs": [],
   "source": [
    "data['surplus_score'] = scaler.transform(data[['surplus_score']])"
   ]
  },
  {
   "cell_type": "code",
   "execution_count": 75,
   "metadata": {},
   "outputs": [
    {
     "data": {
      "text/plain": [
       "1.0"
      ]
     },
     "execution_count": 75,
     "metadata": {},
     "output_type": "execute_result"
    }
   ],
   "source": [
    "data.surplus_score.max()"
   ]
  },
  {
   "cell_type": "code",
   "execution_count": 76,
   "metadata": {},
   "outputs": [],
   "source": [
    "data.to_csv('to_simulate.dat', sep=' ', index=False, header=False)"
   ]
  },
  {
   "cell_type": "code",
   "execution_count": 20,
   "metadata": {},
   "outputs": [],
   "source": [
    "data_3.drop(columns=['Szervezet_neve', 'ks_helye']).to_csv('no_missing_space_delimited.dat', sep=' ', index=False, header=False)"
   ]
  },
  {
   "cell_type": "code",
   "execution_count": 30,
   "metadata": {},
   "outputs": [
    {
     "data": {
      "text/plain": [
       "Index(['Képzés', 'felvi_osszes_skalazott', 'Hozott/Tanulmányi_pontszám',\n",
       "       'Szerzett/Érettségi_pontsz', 'tobblet_skalazott', 'Statusz_vegzett',\n",
       "       'allamilag_tamogatott', 're_enrolled', 'idegen_nyelv',\n",
       "       'magyar nyelv és irodalom', 'matematika', 'történelem',\n",
       "       'választott_tárgy', 'idegen_nyelv_ks', 'magyar_irodalom_ks',\n",
       "       'magyar_nyelvtan_ks', 'matematika_ks', 'történelem_ks',\n",
       "       'választható_tantárgy_ks', 'nyv_pontok', 'nem_ferfi',\n",
       "       'erettsegi_ota_eltelt_évek'],\n",
       "      dtype='object')"
      ]
     },
     "execution_count": 30,
     "metadata": {},
     "output_type": "execute_result"
    }
   ],
   "source": [
    "data_3.drop(columns=['Szervezet_neve', 'ks_helye']).columns"
   ]
  },
  {
   "cell_type": "code",
   "execution_count": 77,
   "metadata": {},
   "outputs": [],
   "source": [
    "ctgan_model = CTGANSynthesizer()"
   ]
  },
  {
   "cell_type": "code",
   "execution_count": null,
   "metadata": {},
   "outputs": [
    {
     "name": "stdout",
     "output_type": "stream",
     "text": [
      "/home/nagy/anaconda3/lib/python3.6/site-packages/sklearn/mixture/base.py:265: ConvergenceWarning: Initialization 1 did not converge. Try different init parameters, or increase max_iter, tol or check for degenerate data.\n",
      "  % (init + 1), ConvergenceWarning)\n",
      "/home/nagy/anaconda3/lib/python3.6/site-packages/sklearn/mixture/base.py:265: ConvergenceWarning: Initialization 1 did not converge. Try different init parameters, or increase max_iter, tol or check for degenerate data.\n",
      "  % (init + 1), ConvergenceWarning)\n",
      "/home/nagy/anaconda3/lib/python3.6/site-packages/sklearn/mixture/base.py:265: ConvergenceWarning: Initialization 1 did not converge. Try different init parameters, or increase max_iter, tol or check for degenerate data.\n",
      "  % (init + 1), ConvergenceWarning)\n",
      "/home/nagy/anaconda3/lib/python3.6/site-packages/sklearn/mixture/base.py:265: ConvergenceWarning: Initialization 1 did not converge. Try different init parameters, or increase max_iter, tol or check for degenerate data.\n",
      "  % (init + 1), ConvergenceWarning)\n",
      "/home/nagy/anaconda3/lib/python3.6/site-packages/sklearn/mixture/base.py:265: ConvergenceWarning: Initialization 1 did not converge. Try different init parameters, or increase max_iter, tol or check for degenerate data.\n",
      "  % (init + 1), ConvergenceWarning)\n",
      "/home/nagy/anaconda3/lib/python3.6/site-packages/sklearn/mixture/base.py:265: ConvergenceWarning: Initialization 1 did not converge. Try different init parameters, or increase max_iter, tol or check for degenerate data.\n",
      "  % (init + 1), ConvergenceWarning)\n",
      "/home/nagy/anaconda3/lib/python3.6/site-packages/sklearn/cluster/k_means_.py:969: ConvergenceWarning: Number of distinct clusters (7) found smaller than n_clusters (10). Possibly due to duplicate points in X.\n",
      "  return_n_iter=True)\n",
      "/home/nagy/anaconda3/lib/python3.6/site-packages/sklearn/cluster/k_means_.py:969: ConvergenceWarning: Number of distinct clusters (7) found smaller than n_clusters (10). Possibly due to duplicate points in X.\n",
      "  return_n_iter=True)\n",
      "/home/nagy/anaconda3/lib/python3.6/site-packages/sklearn/cluster/k_means_.py:969: ConvergenceWarning: Number of distinct clusters (7) found smaller than n_clusters (10). Possibly due to duplicate points in X.\n",
      "  return_n_iter=True)\n",
      "/home/nagy/anaconda3/lib/python3.6/site-packages/sklearn/cluster/k_means_.py:969: ConvergenceWarning: Number of distinct clusters (7) found smaller than n_clusters (10). Possibly due to duplicate points in X.\n",
      "  return_n_iter=True)\n",
      "/home/nagy/anaconda3/lib/python3.6/site-packages/sklearn/cluster/k_means_.py:969: ConvergenceWarning: Number of distinct clusters (7) found smaller than n_clusters (10). Possibly due to duplicate points in X.\n",
      "  return_n_iter=True)\n",
      "/home/nagy/anaconda3/lib/python3.6/site-packages/sklearn/cluster/k_means_.py:969: ConvergenceWarning: Number of distinct clusters (7) found smaller than n_clusters (10). Possibly due to duplicate points in X.\n",
      "  return_n_iter=True)\n",
      "/home/nagy/anaconda3/lib/python3.6/site-packages/sklearn/cluster/k_means_.py:969: ConvergenceWarning: Number of distinct clusters (7) found smaller than n_clusters (10). Possibly due to duplicate points in X.\n",
      "  return_n_iter=True)\n",
      "/home/nagy/anaconda3/lib/python3.6/site-packages/sklearn/mixture/base.py:265: ConvergenceWarning: Initialization 1 did not converge. Try different init parameters, or increase max_iter, tol or check for degenerate data.\n",
      "  % (init + 1), ConvergenceWarning)\n",
      "/home/nagy/anaconda3/lib/python3.6/site-packages/sklearn/mixture/base.py:265: ConvergenceWarning: Initialization 1 did not converge. Try different init parameters, or increase max_iter, tol or check for degenerate data.\n",
      "  % (init + 1), ConvergenceWarning)\n",
      "Epoch 1, Loss G: 0.8629, Loss D: -0.2704\n",
      "Epoch 2, Loss G: 0.1969, Loss D: -0.4355\n",
      "Epoch 3, Loss G: -0.3737, Loss D: 0.1051\n",
      "Epoch 4, Loss G: -0.1226, Loss D: 0.1170\n",
      "Epoch 5, Loss G: 0.0431, Loss D: 0.1469\n",
      "Epoch 6, Loss G: 0.4044, Loss D: -0.2330\n",
      "Epoch 7, Loss G: 0.0876, Loss D: 0.1780\n",
      "Epoch 8, Loss G: -0.2353, Loss D: 0.2613\n",
      "Epoch 9, Loss G: -0.3839, Loss D: 0.1232\n",
      "Epoch 10, Loss G: -0.7718, Loss D: -0.0123\n",
      "Epoch 11, Loss G: -0.5683, Loss D: -0.1765\n",
      "Epoch 12, Loss G: -0.7643, Loss D: 0.1346\n",
      "Epoch 13, Loss G: -1.1303, Loss D: 0.2709\n",
      "Epoch 14, Loss G: -0.6342, Loss D: -0.1793\n",
      "Epoch 15, Loss G: -0.7629, Loss D: 0.0691\n",
      "Epoch 16, Loss G: -0.6556, Loss D: 0.0654\n",
      "Epoch 17, Loss G: -0.2806, Loss D: -0.0842\n",
      "Epoch 18, Loss G: -0.8616, Loss D: 0.3168\n",
      "Epoch 19, Loss G: -1.0209, Loss D: -0.0536\n",
      "Epoch 20, Loss G: -1.0526, Loss D: -0.1878\n",
      "Epoch 21, Loss G: -1.4879, Loss D: 0.2672\n",
      "Epoch 22, Loss G: -0.7203, Loss D: -0.2904\n",
      "Epoch 23, Loss G: -1.1187, Loss D: 0.3072\n",
      "Epoch 24, Loss G: -1.0965, Loss D: -0.1783\n",
      "Epoch 25, Loss G: -1.1234, Loss D: 0.0259\n",
      "Epoch 26, Loss G: -0.9410, Loss D: 0.0345\n",
      "Epoch 27, Loss G: -1.3671, Loss D: 0.0046\n",
      "Epoch 28, Loss G: -1.5698, Loss D: 0.0786\n",
      "Epoch 29, Loss G: -1.5106, Loss D: 0.1561\n",
      "Epoch 30, Loss G: -1.4682, Loss D: -0.2633\n",
      "Epoch 31, Loss G: -1.5460, Loss D: 0.1460\n",
      "Epoch 32, Loss G: -1.6837, Loss D: 0.1834\n",
      "Epoch 33, Loss G: -1.6410, Loss D: -0.1201\n",
      "Epoch 34, Loss G: -1.8307, Loss D: -0.1343\n",
      "Epoch 35, Loss G: -1.9864, Loss D: 0.2410\n",
      "Epoch 36, Loss G: -1.7854, Loss D: 0.0683\n",
      "Epoch 37, Loss G: -1.9277, Loss D: 0.1199\n",
      "Epoch 38, Loss G: -1.9288, Loss D: 0.0154\n",
      "Epoch 39, Loss G: -1.7806, Loss D: -0.0097\n",
      "Epoch 40, Loss G: -1.8114, Loss D: 0.1094\n",
      "Epoch 41, Loss G: -1.6311, Loss D: -0.0707\n",
      "Epoch 42, Loss G: -1.9822, Loss D: 0.1398\n",
      "Epoch 43, Loss G: -1.7766, Loss D: 0.0915\n",
      "Epoch 44, Loss G: -1.8988, Loss D: 0.0978\n",
      "Epoch 45, Loss G: -2.0539, Loss D: 0.0234\n",
      "Epoch 46, Loss G: -2.0583, Loss D: -0.0739\n",
      "Epoch 47, Loss G: -2.1894, Loss D: -0.0968\n",
      "Epoch 48, Loss G: -1.8306, Loss D: -0.0066\n",
      "Epoch 49, Loss G: -1.9157, Loss D: 0.0843\n",
      "Epoch 50, Loss G: -2.2445, Loss D: 0.1679\n",
      "Epoch 51, Loss G: -2.1854, Loss D: -0.1479\n",
      "Epoch 52, Loss G: -2.2303, Loss D: -0.0761\n",
      "Epoch 53, Loss G: -2.1796, Loss D: 0.0398\n",
      "Epoch 54, Loss G: -1.8785, Loss D: -0.0678\n",
      "Epoch 55, Loss G: -2.0691, Loss D: 0.0191\n",
      "Epoch 56, Loss G: -1.9364, Loss D: -0.2018\n"
     ]
    }
   ],
   "source": [
    "!cd ctgan\n",
    "!python -m ctgan.cli --data ./to_simulate.dat --meta  ./metadata.meta --max_epoch 2000 --model_dir ./output_dir/model --output generated_data --sample 50000"
   ]
  },
  {
   "cell_type": "code",
   "execution_count": null,
   "metadata": {},
   "outputs": [],
   "source": []
  }
 ],
 "metadata": {
  "kernelspec": {
   "display_name": "Python 3",
   "language": "python",
   "name": "python3"
  },
  "language_info": {
   "codemirror_mode": {
    "name": "ipython",
    "version": 3
   },
   "file_extension": ".py",
   "mimetype": "text/x-python",
   "name": "python",
   "nbconvert_exporter": "python",
   "pygments_lexer": "ipython3",
   "version": "3.6.8"
  }
 },
 "nbformat": 4,
 "nbformat_minor": 4
}
